{
 "cells": [
  {
   "cell_type": "markdown",
   "metadata": {},
   "source": [
    "# API Scavenger Game\n",
    "\n",
    "## Challenge 1: Fork Languages\n",
    "\n",
    "You will find out how many programming languages are used among all the forks created from the main lab repo of your bootcamp."
   ]
  },
  {
   "cell_type": "code",
   "execution_count": 2,
   "metadata": {},
   "outputs": [],
   "source": [
    "#for dataframes\n",
    "import pandas as pd\n",
    "#to conect with API and grab data\n",
    "import requests\n",
    "#to clean strings or select what we want from urls\n",
    "import re\n",
    "# to be able to secure our token\n",
    "import getpass\n",
    "#import json as well\n",
    "import json\n",
    "#for arrays\n",
    "import numpy as np"
   ]
  },
  {
   "cell_type": "markdown",
   "metadata": {},
   "source": [
    "Assuming the main lab repo is ironhack-datalabs/madrid-oct-2018, you will:\n",
    "\n",
    "#### 1. Obtain the full list of forks created from the main lab repo via Github API."
   ]
  },
  {
   "cell_type": "markdown",
   "metadata": {},
   "source": [
    "To list forks, we can use the GET method. As explained in the GitHub API documentation, we need to make the request to: GET /repos/:owner/:repo/forks."
   ]
  },
  {
   "cell_type": "code",
   "execution_count": 3,
   "metadata": {},
   "outputs": [
    {
     "name": "stdout",
     "output_type": "stream",
     "text": [
      "Alt, please enter your token here:········\n"
     ]
    }
   ],
   "source": [
    "#first of all let's keep our token safe from being published by using this cool library and method Ali showed us.\n",
    "username = 'Alt-E-K'\n",
    "token = getpass.getpass(prompt='Alt, please enter your token here:')\n"
   ]
  },
  {
   "cell_type": "code",
   "execution_count": 4,
   "metadata": {},
   "outputs": [
    {
     "name": "stdout",
     "output_type": "stream",
     "text": [
      "<class 'list'>\n"
     ]
    }
   ],
   "source": [
    "#as we have seen on the lecture this morning the code to issue a GET request to the GitHubAPI and for this to grab \n",
    "#specific items we need to add key values in the form of / word to the root which is https://api.github.com/\n",
    "#we have added repos to reach into a particular repo, then we have aded the owner of the repo and the name of said repo\n",
    "#followed by forks which is the element of the repo we will be analyzing.\n",
    "\n",
    "url = 'https://api.github.com/repos/ironhack-datalabs/madrid-oct-2018/forks'\n",
    "\n",
    "''' ask Guillem when is this necesary\n",
    "headers = {\n",
    "  'Accept': 'Accept: application/vnd.github.v3+json',\n",
    "  'Authorization': 'Bearer  this used to be the token\n",
    "                                                        }\n",
    "payload = {}'''\n",
    "\n",
    "ch1_response_ = requests.get(url, auth=(username, token))\n",
    "ch1_response_json = ch1_response_.json()\n",
    "print(type(ch1_response_json))"
   ]
  },
  {
   "cell_type": "code",
   "execution_count": 5,
   "metadata": {},
   "outputs": [
    {
     "name": "stdout",
     "output_type": "stream",
     "text": [
      "{\n",
      "      \"id\": 220066216,\n",
      "      \"node_id\": \"MDEwOlJlcG9zaXRvcnkyMjAwNjYyMTY=\",\n",
      "      \"name\": \"mad-oct-2018\",\n",
      "      \"full_name\": \"ToniPons97/mad-oct-2018\",\n",
      "      \"private\": false,\n",
      "      \"owner\": {\n",
      "            \"login\": \"ToniPons97\",\n",
      "            \"id\": 45130294,\n",
      "            \"node_id\": \"MDQ6VXNlcjQ1MTMwMjk0\",\n",
      "            \"avatar_url\": \"https://avatars3.githubusercontent.com/u/45130294?v=4\",\n",
      "            \"gravatar_id\": \"\",\n",
      "            \"url\": \"https://api.github.com/users/ToniPons97\",\n",
      "            \"html_url\": \"https://github.com/ToniPons97\",\n",
      "            \"followers_url\": \"https://api.github.com/users/ToniPons97/followers\",\n",
      "            \"following_url\": \"https://api.github.com/users/ToniPons97/following{/other_user}\",\n",
      "            \"gists_url\": \"https://api.github.com/users/ToniPons97/gists{/gist_id}\",\n",
      "            \"starred_url\": \"https://api.github.com/users/ToniPons97/starred{/owner}{/repo}\",\n",
      "            \"subscriptions_url\": \"https://api.github.com/users/ToniPons97/subscriptions\",\n",
      "            \"organizations_url\": \"https://api.github.com/users/ToniPons97/orgs\",\n",
      "            \"repos_url\": \"https://api.github.com/users/ToniPons97/repos\",\n",
      "            \"events_url\": \"https://api.github.com/users/ToniPons97/events{/privacy}\",\n",
      "            \"received_events_url\": \"https://api.github.com/users/ToniPons97/received_events\",\n",
      "            \"type\": \"User\",\n",
      "            \"site_admin\": false\n",
      "      },\n",
      "      \"html_url\": \"https://github.com/ToniPons97/mad-oct-2018\",\n",
      "      \"description\": \"Student labs for Ironhack data analytics bootcamp\",\n",
      "      \"fork\": true,\n",
      "      \"url\": \"https://api.github.com/repos/ToniPons97/mad-oct-2018\",\n",
      "      \"forks_url\": \"https://api.github.com/repos/ToniPons97/mad-oct-2018/forks\",\n",
      "      \"keys_url\": \"https://api.github.com/repos/ToniPons97/mad-oct-2018/keys{/key_id}\",\n",
      "      \"collaborators_url\": \"https://api.github.com/repos/ToniPons97/mad-oct-2018/collaborators{/collaborator}\",\n",
      "      \"teams_url\": \"https://api.github.com/repos/ToniPons97/mad-oct-2018/teams\",\n",
      "      \"hooks_url\": \"https://api.github.com/repos/ToniPons97/mad-oct-2018/hooks\",\n",
      "      \"issue_events_url\": \"https://api.github.com/repos/ToniPons97/mad-oct-2018/issues/events{/number}\",\n",
      "      \"events_url\": \"https://api.github.com/repos/ToniPons97/mad-oct-2018/events\",\n",
      "      \"assignees_url\": \"https://api.github.com/repos/ToniPons97/mad-oct-2018/assignees{/user}\",\n",
      "      \"branches_url\": \"https://api.github.com/repos/ToniPons97/mad-oct-2018/branches{/branch}\",\n",
      "      \"tags_url\": \"https://api.github.com/repos/ToniPons97/mad-oct-2018/tags\",\n",
      "      \"blobs_url\": \"https://api.github.com/repos/ToniPons97/mad-oct-2018/git/blobs{/sha}\",\n",
      "      \"git_tags_url\": \"https://api.github.com/repos/ToniPons97/mad-oct-2018/git/tags{/sha}\",\n",
      "      \"git_refs_url\": \"https://api.github.com/repos/ToniPons97/mad-oct-2018/git/refs{/sha}\",\n",
      "      \"trees_url\": \"https://api.github.com/repos/ToniPons97/mad-oct-2018/git/trees{/sha}\",\n",
      "      \"statuses_url\": \"https://api.github.com/repos/ToniPons97/mad-oct-2018/statuses/{sha}\",\n",
      "      \"languages_url\": \"https://api.github.com/repos/ToniPons97/mad-oct-2018/languages\",\n",
      "      \"stargazers_url\": \"https://api.github.com/repos/ToniPons97/mad-oct-2018/stargazers\",\n",
      "      \"contributors_url\": \"https://api.github.com/repos/ToniPons97/mad-oct-2018/contributors\",\n",
      "      \"subscribers_url\": \"https://api.github.com/repos/ToniPons97/mad-oct-2018/subscribers\",\n",
      "      \"subscription_url\": \"https://api.github.com/repos/ToniPons97/mad-oct-2018/subscription\",\n",
      "      \"commits_url\": \"https://api.github.com/repos/ToniPons97/mad-oct-2018/commits{/sha}\",\n",
      "      \"git_commits_url\": \"https://api.github.com/repos/ToniPons97/mad-oct-2018/git/commits{/sha}\",\n",
      "      \"comments_url\": \"https://api.github.com/repos/ToniPons97/mad-oct-2018/comments{/number}\",\n",
      "      \"issue_comment_url\": \"https://api.github.com/repos/ToniPons97/mad-oct-2018/issues/comments{/number}\",\n",
      "      \"contents_url\": \"https://api.github.com/repos/ToniPons97/mad-oct-2018/contents/{+path}\",\n",
      "      \"compare_url\": \"https://api.github.com/repos/ToniPons97/mad-oct-2018/compare/{base}...{head}\",\n",
      "      \"merges_url\": \"https://api.github.com/repos/ToniPons97/mad-oct-2018/merges\",\n",
      "      \"archive_url\": \"https://api.github.com/repos/ToniPons97/mad-oct-2018/{archive_format}{/ref}\",\n",
      "      \"downloads_url\": \"https://api.github.com/repos/ToniPons97/mad-oct-2018/downloads\",\n",
      "      \"issues_url\": \"https://api.github.com/repos/ToniPons97/mad-oct-2018/issues{/number}\",\n",
      "      \"pulls_url\": \"https://api.github.com/repos/ToniPons97/mad-oct-2018/pulls{/number}\",\n",
      "      \"milestones_url\": \"https://api.github.com/repos/ToniPons97/mad-oct-2018/milestones{/number}\",\n",
      "      \"notifications_url\": \"https://api.github.com/repos/ToniPons97/mad-oct-2018/notifications{?since,all,participating}\",\n",
      "      \"labels_url\": \"https://api.github.com/repos/ToniPons97/mad-oct-2018/labels{/name}\",\n",
      "      \"releases_url\": \"https://api.github.com/repos/ToniPons97/mad-oct-2018/releases{/id}\",\n",
      "      \"deployments_url\": \"https://api.github.com/repos/ToniPons97/mad-oct-2018/deployments\",\n",
      "      \"created_at\": \"2019-11-06T18:44:51Z\",\n",
      "      \"updated_at\": \"2019-11-06T18:44:52Z\",\n",
      "      \"pushed_at\": \"2019-08-19T11:16:55Z\",\n",
      "      \"git_url\": \"git://github.com/ToniPons97/mad-oct-2018.git\",\n",
      "      \"ssh_url\": \"git@github.com:ToniPons97/mad-oct-2018.git\",\n",
      "      \"clone_url\": \"https://github.com/ToniPons97/mad-oct-2018.git\",\n",
      "      \"svn_url\": \"https://github.com/ToniPons97/mad-oct-2018\",\n",
      "      \"homepage\": \"\",\n",
      "      \"size\": 116995,\n",
      "      \"stargazers_count\": 0,\n",
      "      \"watchers_count\": 0,\n",
      "      \"language\": null,\n",
      "      \"has_issues\": false,\n",
      "      \"has_projects\": true,\n",
      "      \"has_downloads\": true,\n",
      "      \"has_wiki\": true,\n",
      "      \"has_pages\": false,\n",
      "      \"forks_count\": 0,\n",
      "      \"mirror_url\": null,\n",
      "      \"archived\": false,\n",
      "      \"disabled\": false,\n",
      "      \"open_issues_count\": 0,\n",
      "      \"license\": {\n",
      "            \"key\": \"unlicense\",\n",
      "            \"name\": \"The Unlicense\",\n",
      "            \"spdx_id\": \"Unlicense\",\n",
      "            \"url\": \"https://api.github.com/licenses/unlicense\",\n",
      "            \"node_id\": \"MDc6TGljZW5zZTE1\"\n",
      "      },\n",
      "      \"forks\": 0,\n",
      "      \"open_issues\": 0,\n",
      "      \"watchers\": 0,\n",
      "      \"default_branch\": \"master\",\n",
      "      \"permissions\": {\n",
      "            \"admin\": false,\n",
      "            \"push\": false,\n",
      "            \"pull\": true\n",
      "      }\n",
      "}\n"
     ]
    }
   ],
   "source": [
    "#this last bit of advice by Ali helps us not need or not use that heavily this tool called postman\n",
    "print(json.dumps(ch1_response_json[0], indent=6))"
   ]
  },
  {
   "cell_type": "markdown",
   "metadata": {},
   "source": [
    "We can see that we have a list of dictionaries, inside each dictionary 3 keys (owner, license and permissions) are dictionaries themselves, so we would have to flatten them and then normalize. But by now and to answer the first question e should just count the lenght of the list."
   ]
  },
  {
   "cell_type": "code",
   "execution_count": 6,
   "metadata": {},
   "outputs": [
    {
     "data": {
      "text/plain": [
       "15"
      ]
     },
     "execution_count": 6,
     "metadata": {},
     "output_type": "execute_result"
    }
   ],
   "source": [
    "len(ch1_response_json)"
   ]
  },
  {
   "cell_type": "markdown",
   "metadata": {},
   "source": [
    "#### 2. Loop the JSON response to find out the language attribute of each fork. Use an array to store the language attributes of each fork.\n",
    "Hint: Each language should appear only once in your array.\n",
    "Print the language array. It should be something like: [\"Jupyter Notebook\", \"HTML\"]"
   ]
  },
  {
   "cell_type": "code",
   "execution_count": 7,
   "metadata": {},
   "outputs": [
    {
     "data": {
      "text/plain": [
       "set"
      ]
     },
     "execution_count": 7,
     "metadata": {},
     "output_type": "execute_result"
    }
   ],
   "source": [
    "url_lang_1 = ch1_response_json[0].get('languages_url')\n",
    "languages_values = requests.get(url_lang_1, auth=(username, token))\n",
    "lang_dict = languages_values.json()\n",
    "type(set(list(lang_dict.keys())))"
   ]
  },
  {
   "cell_type": "code",
   "execution_count": 8,
   "metadata": {},
   "outputs": [],
   "source": [
    "def language_condenser():\n",
    "#empty list to compile\n",
    "    complete_list=[]\n",
    "\n",
    "#looping through evey response in the list to grab the url, request it and turn it into a dictionary(because this response is not a list is a dict)\n",
    "#then grab the keys of the dict and make them into a list that will be introdcued in the compiled one.\n",
    "    for index,i in enumerate(ch1_response_json):\n",
    "        values_url = ch1_response_json[index].get('languages_url')\n",
    "        languages_values_dict = requests.get(values_url, auth=(username, token)).json()\n",
    "        languages_list=list(languages_values_dict.keys())\n",
    "        complete_list=complete_list+languages_list\n",
    "#after that loop is done, we turn the list into a set, to get rid of the unwanted duplicates and then into an array since it what they asks us to do.\n",
    "    \n",
    "    complete_set = set(complete_list)\n",
    "    complete_array=np.array(complete_set)\n",
    "    return complete_array\n"
   ]
  },
  {
   "cell_type": "code",
   "execution_count": 9,
   "metadata": {},
   "outputs": [
    {
     "data": {
      "text/plain": [
       "array({'Shell', 'Python', 'Jupyter Notebook', 'HTML'}, dtype=object)"
      ]
     },
     "execution_count": 9,
     "metadata": {},
     "output_type": "execute_result"
    }
   ],
   "source": [
    "language_condenser()"
   ]
  },
  {
   "cell_type": "markdown",
   "metadata": {},
   "source": [
    "## Challenge 2: Count Commits\n",
    "Count how many commits were made in the month of october of 2018.\n",
    "#### 1. Obtain all the commits made in October 2018 via API, which is a JSON array that contains multiple commit objects."
   ]
  },
  {
   "cell_type": "code",
   "execution_count": 10,
   "metadata": {},
   "outputs": [
    {
     "name": "stdout",
     "output_type": "stream",
     "text": [
      "1538344800.0\n",
      "1540940400.0\n"
     ]
    }
   ],
   "source": [
    "#we repeat the process of secure requesting and get our list of the responses this time we substitute forks by commits \n",
    "#ATTENTION we also need to limit it to october. so we need a time stamp\n",
    "url_ch2= 'https://api.github.com/repos/ironhack-datalabs/madrid-oct-2018/commits'\n",
    "\n",
    "#to select the time we need to have the timestamps of a particular datetime format  YYYY-MM-DD as stated in\n",
    "#https://docs.github.com/en/rest/reference/repos#commits\n",
    "import time\n",
    "import datetime\n",
    "\n",
    "date1 = '2018-10-01'\n",
    "date2 = '2018-10-31'\n",
    "ts1 = time.mktime(time.strptime(date1, \"%Y-%m-%d\"))\n",
    "ts2 = time.mktime(time.strptime(date2, \"%Y-%m-%d\"))\n",
    "\n",
    "print(ts1)\n",
    "print(ts2)\n",
    "\n",
    "#thanks to postman we see we need to include this on the url and not on the requests so \n",
    "url_ch2_bien = 'https://api.github.com/repos/ironhack-datalabs/madrid-oct-2018/commits?since=1538344800&until=1540940400'"
   ]
  },
  {
   "cell_type": "code",
   "execution_count": 11,
   "metadata": {},
   "outputs": [
    {
     "name": "stdout",
     "output_type": "stream",
     "text": [
      "<class 'list'>\n"
     ]
    }
   ],
   "source": [
    "ch2_response_ = requests.get(url_ch2_bien, auth=(username, token))\n",
    "ch2_response_json = ch2_response_.json()\n",
    "print(type(ch2_response_json))"
   ]
  },
  {
   "cell_type": "code",
   "execution_count": 12,
   "metadata": {},
   "outputs": [
    {
     "name": "stdout",
     "output_type": "stream",
     "text": [
      "{\n",
      "      \"sha\": \"9dd3c17d63421aebac783379a10880a6d068288b\",\n",
      "      \"node_id\": \"MDY6Q29tbWl0MTUzNzIwODA0OjlkZDNjMTdkNjM0MjFhZWJhYzc4MzM3OWExMDg4MGE2ZDA2ODI4OGI=\",\n",
      "      \"commit\": {\n",
      "            \"author\": {\n",
      "                  \"name\": \"Gobinde43\",\n",
      "                  \"email\": \"belenlinacero@gmail.com\",\n",
      "                  \"date\": \"2018-10-30T22:51:52Z\"\n",
      "            },\n",
      "            \"committer\": {\n",
      "                  \"name\": \"Gobinde43\",\n",
      "                  \"email\": \"belenlinacero@gmail.com\",\n",
      "                  \"date\": \"2018-10-30T22:51:52Z\"\n",
      "            },\n",
      "            \"message\": \"folder update\",\n",
      "            \"tree\": {\n",
      "                  \"sha\": \"ef17fe534a84abf46772fd969e9951fc672a590f\",\n",
      "                  \"url\": \"https://api.github.com/repos/ironhack-datalabs/mad-oct-2018/git/trees/ef17fe534a84abf46772fd969e9951fc672a590f\"\n",
      "            },\n",
      "            \"url\": \"https://api.github.com/repos/ironhack-datalabs/mad-oct-2018/git/commits/9dd3c17d63421aebac783379a10880a6d068288b\",\n",
      "            \"comment_count\": 0,\n",
      "            \"verification\": {\n",
      "                  \"verified\": false,\n",
      "                  \"reason\": \"unsigned\",\n",
      "                  \"signature\": null,\n",
      "                  \"payload\": null\n",
      "            }\n",
      "      },\n",
      "      \"url\": \"https://api.github.com/repos/ironhack-datalabs/mad-oct-2018/commits/9dd3c17d63421aebac783379a10880a6d068288b\",\n",
      "      \"html_url\": \"https://github.com/ironhack-datalabs/mad-oct-2018/commit/9dd3c17d63421aebac783379a10880a6d068288b\",\n",
      "      \"comments_url\": \"https://api.github.com/repos/ironhack-datalabs/mad-oct-2018/commits/9dd3c17d63421aebac783379a10880a6d068288b/comments\",\n",
      "      \"author\": {\n",
      "            \"login\": \"Gobinde43\",\n",
      "            \"id\": 22130700,\n",
      "            \"node_id\": \"MDQ6VXNlcjIyMTMwNzAw\",\n",
      "            \"avatar_url\": \"https://avatars3.githubusercontent.com/u/22130700?v=4\",\n",
      "            \"gravatar_id\": \"\",\n",
      "            \"url\": \"https://api.github.com/users/Gobinde43\",\n",
      "            \"html_url\": \"https://github.com/Gobinde43\",\n",
      "            \"followers_url\": \"https://api.github.com/users/Gobinde43/followers\",\n",
      "            \"following_url\": \"https://api.github.com/users/Gobinde43/following{/other_user}\",\n",
      "            \"gists_url\": \"https://api.github.com/users/Gobinde43/gists{/gist_id}\",\n",
      "            \"starred_url\": \"https://api.github.com/users/Gobinde43/starred{/owner}{/repo}\",\n",
      "            \"subscriptions_url\": \"https://api.github.com/users/Gobinde43/subscriptions\",\n",
      "            \"organizations_url\": \"https://api.github.com/users/Gobinde43/orgs\",\n",
      "            \"repos_url\": \"https://api.github.com/users/Gobinde43/repos\",\n",
      "            \"events_url\": \"https://api.github.com/users/Gobinde43/events{/privacy}\",\n",
      "            \"received_events_url\": \"https://api.github.com/users/Gobinde43/received_events\",\n",
      "            \"type\": \"User\",\n",
      "            \"site_admin\": false\n",
      "      },\n",
      "      \"committer\": {\n",
      "            \"login\": \"Gobinde43\",\n",
      "            \"id\": 22130700,\n",
      "            \"node_id\": \"MDQ6VXNlcjIyMTMwNzAw\",\n",
      "            \"avatar_url\": \"https://avatars3.githubusercontent.com/u/22130700?v=4\",\n",
      "            \"gravatar_id\": \"\",\n",
      "            \"url\": \"https://api.github.com/users/Gobinde43\",\n",
      "            \"html_url\": \"https://github.com/Gobinde43\",\n",
      "            \"followers_url\": \"https://api.github.com/users/Gobinde43/followers\",\n",
      "            \"following_url\": \"https://api.github.com/users/Gobinde43/following{/other_user}\",\n",
      "            \"gists_url\": \"https://api.github.com/users/Gobinde43/gists{/gist_id}\",\n",
      "            \"starred_url\": \"https://api.github.com/users/Gobinde43/starred{/owner}{/repo}\",\n",
      "            \"subscriptions_url\": \"https://api.github.com/users/Gobinde43/subscriptions\",\n",
      "            \"organizations_url\": \"https://api.github.com/users/Gobinde43/orgs\",\n",
      "            \"repos_url\": \"https://api.github.com/users/Gobinde43/repos\",\n",
      "            \"events_url\": \"https://api.github.com/users/Gobinde43/events{/privacy}\",\n",
      "            \"received_events_url\": \"https://api.github.com/users/Gobinde43/received_events\",\n",
      "            \"type\": \"User\",\n",
      "            \"site_admin\": false\n",
      "      },\n",
      "      \"parents\": [\n",
      "            {\n",
      "                  \"sha\": \"3e31fe054acd8a84708c32457fd013206fbba155\",\n",
      "                  \"url\": \"https://api.github.com/repos/ironhack-datalabs/mad-oct-2018/commits/3e31fe054acd8a84708c32457fd013206fbba155\",\n",
      "                  \"html_url\": \"https://github.com/ironhack-datalabs/mad-oct-2018/commit/3e31fe054acd8a84708c32457fd013206fbba155\"\n",
      "            }\n",
      "      ]\n",
      "}\n"
     ]
    }
   ],
   "source": [
    "print(json.dumps(ch2_response_json[0], indent=6))"
   ]
  },
  {
   "cell_type": "markdown",
   "metadata": {},
   "source": [
    "#### 2. Count how many commit objects are contained in the array."
   ]
  },
  {
   "cell_type": "code",
   "execution_count": 13,
   "metadata": {},
   "outputs": [
    {
     "data": {
      "text/plain": [
       "30"
      ]
     },
     "execution_count": 13,
     "metadata": {},
     "output_type": "execute_result"
    }
   ],
   "source": [
    "len(ch2_response_json)"
   ]
  },
  {
   "cell_type": "markdown",
   "metadata": {},
   "source": [
    "This seems suspicious we are going to rise the number per pege to hundred to be sure."
   ]
  },
  {
   "cell_type": "code",
   "execution_count": 14,
   "metadata": {},
   "outputs": [],
   "source": [
    "url_ch2_bien_100 = 'https://api.github.com/repos/ironhack-datalabs/madrid-oct-2018/commits?since=1538344800&until=1540940400&per_page=100'"
   ]
  },
  {
   "cell_type": "code",
   "execution_count": 15,
   "metadata": {},
   "outputs": [],
   "source": [
    "ch2_response_100 = requests.get(url_ch2_bien_100, auth=(username, token))\n",
    "ch2_response_100json = ch2_response_100.json()"
   ]
  },
  {
   "cell_type": "code",
   "execution_count": 16,
   "metadata": {},
   "outputs": [
    {
     "data": {
      "text/plain": [
       "59"
      ]
     },
     "execution_count": 16,
     "metadata": {},
     "output_type": "execute_result"
    }
   ],
   "source": [
    "len(ch2_response_100json)"
   ]
  },
  {
   "cell_type": "markdown",
   "metadata": {},
   "source": [
    "There were 59 commits in October 2018"
   ]
  },
  {
   "cell_type": "markdown",
   "metadata": {},
   "source": [
    "## Challenge 3: Hidden Cold Joke\n",
    "\n",
    "Using Python, call Github API to find out the cold joke contained in the 24 secret files in the following repo:\n",
    "\n",
    "https://github.com/ironhack-datalabs/scavenger\n",
    "\n",
    "The filenames of the secret files contain .scavengerhunt and they are scattered in different directories of this repo. The secret files are named from .0001.scavengerhunt to .0024.scavengerhunt. They are scattered randomly throughout this repo. You need to search for these files by calling the Github API, not searching the local files on your computer.\n",
    "\n",
    "#### 1. Find the secret files."
   ]
  },
  {
   "cell_type": "code",
   "execution_count": 17,
   "metadata": {},
   "outputs": [
    {
     "name": "stdout",
     "output_type": "stream",
     "text": [
      "{\n",
      "      \"id\": 162375181,\n",
      "      \"node_id\": \"MDEwOlJlcG9zaXRvcnkxNjIzNzUxODE=\",\n",
      "      \"name\": \"scavenger\",\n",
      "      \"full_name\": \"ironhack-datalabs/scavenger\",\n",
      "      \"private\": false,\n",
      "      \"owner\": {\n",
      "            \"login\": \"ironhack-datalabs\",\n",
      "            \"id\": 44225188,\n",
      "            \"node_id\": \"MDEyOk9yZ2FuaXphdGlvbjQ0MjI1MTg4\",\n",
      "            \"avatar_url\": \"https://avatars2.githubusercontent.com/u/44225188?v=4\",\n",
      "            \"gravatar_id\": \"\",\n",
      "            \"url\": \"https://api.github.com/users/ironhack-datalabs\",\n",
      "            \"html_url\": \"https://github.com/ironhack-datalabs\",\n",
      "            \"followers_url\": \"https://api.github.com/users/ironhack-datalabs/followers\",\n",
      "            \"following_url\": \"https://api.github.com/users/ironhack-datalabs/following{/other_user}\",\n",
      "            \"gists_url\": \"https://api.github.com/users/ironhack-datalabs/gists{/gist_id}\",\n",
      "            \"starred_url\": \"https://api.github.com/users/ironhack-datalabs/starred{/owner}{/repo}\",\n",
      "            \"subscriptions_url\": \"https://api.github.com/users/ironhack-datalabs/subscriptions\",\n",
      "            \"organizations_url\": \"https://api.github.com/users/ironhack-datalabs/orgs\",\n",
      "            \"repos_url\": \"https://api.github.com/users/ironhack-datalabs/repos\",\n",
      "            \"events_url\": \"https://api.github.com/users/ironhack-datalabs/events{/privacy}\",\n",
      "            \"received_events_url\": \"https://api.github.com/users/ironhack-datalabs/received_events\",\n",
      "            \"type\": \"Organization\",\n",
      "            \"site_admin\": false\n",
      "      },\n",
      "      \"html_url\": \"https://github.com/ironhack-datalabs/scavenger\",\n",
      "      \"description\": null,\n",
      "      \"fork\": false,\n",
      "      \"url\": \"https://api.github.com/repos/ironhack-datalabs/scavenger\",\n",
      "      \"forks_url\": \"https://api.github.com/repos/ironhack-datalabs/scavenger/forks\",\n",
      "      \"keys_url\": \"https://api.github.com/repos/ironhack-datalabs/scavenger/keys{/key_id}\",\n",
      "      \"collaborators_url\": \"https://api.github.com/repos/ironhack-datalabs/scavenger/collaborators{/collaborator}\",\n",
      "      \"teams_url\": \"https://api.github.com/repos/ironhack-datalabs/scavenger/teams\",\n",
      "      \"hooks_url\": \"https://api.github.com/repos/ironhack-datalabs/scavenger/hooks\",\n",
      "      \"issue_events_url\": \"https://api.github.com/repos/ironhack-datalabs/scavenger/issues/events{/number}\",\n",
      "      \"events_url\": \"https://api.github.com/repos/ironhack-datalabs/scavenger/events\",\n",
      "      \"assignees_url\": \"https://api.github.com/repos/ironhack-datalabs/scavenger/assignees{/user}\",\n",
      "      \"branches_url\": \"https://api.github.com/repos/ironhack-datalabs/scavenger/branches{/branch}\",\n",
      "      \"tags_url\": \"https://api.github.com/repos/ironhack-datalabs/scavenger/tags\",\n",
      "      \"blobs_url\": \"https://api.github.com/repos/ironhack-datalabs/scavenger/git/blobs{/sha}\",\n",
      "      \"git_tags_url\": \"https://api.github.com/repos/ironhack-datalabs/scavenger/git/tags{/sha}\",\n",
      "      \"git_refs_url\": \"https://api.github.com/repos/ironhack-datalabs/scavenger/git/refs{/sha}\",\n",
      "      \"trees_url\": \"https://api.github.com/repos/ironhack-datalabs/scavenger/git/trees{/sha}\",\n",
      "      \"statuses_url\": \"https://api.github.com/repos/ironhack-datalabs/scavenger/statuses/{sha}\",\n",
      "      \"languages_url\": \"https://api.github.com/repos/ironhack-datalabs/scavenger/languages\",\n",
      "      \"stargazers_url\": \"https://api.github.com/repos/ironhack-datalabs/scavenger/stargazers\",\n",
      "      \"contributors_url\": \"https://api.github.com/repos/ironhack-datalabs/scavenger/contributors\",\n",
      "      \"subscribers_url\": \"https://api.github.com/repos/ironhack-datalabs/scavenger/subscribers\",\n",
      "      \"subscription_url\": \"https://api.github.com/repos/ironhack-datalabs/scavenger/subscription\",\n",
      "      \"commits_url\": \"https://api.github.com/repos/ironhack-datalabs/scavenger/commits{/sha}\",\n",
      "      \"git_commits_url\": \"https://api.github.com/repos/ironhack-datalabs/scavenger/git/commits{/sha}\",\n",
      "      \"comments_url\": \"https://api.github.com/repos/ironhack-datalabs/scavenger/comments{/number}\",\n",
      "      \"issue_comment_url\": \"https://api.github.com/repos/ironhack-datalabs/scavenger/issues/comments{/number}\",\n",
      "      \"contents_url\": \"https://api.github.com/repos/ironhack-datalabs/scavenger/contents/{+path}\",\n",
      "      \"compare_url\": \"https://api.github.com/repos/ironhack-datalabs/scavenger/compare/{base}...{head}\",\n",
      "      \"merges_url\": \"https://api.github.com/repos/ironhack-datalabs/scavenger/merges\",\n",
      "      \"archive_url\": \"https://api.github.com/repos/ironhack-datalabs/scavenger/{archive_format}{/ref}\",\n",
      "      \"downloads_url\": \"https://api.github.com/repos/ironhack-datalabs/scavenger/downloads\",\n",
      "      \"issues_url\": \"https://api.github.com/repos/ironhack-datalabs/scavenger/issues{/number}\",\n",
      "      \"pulls_url\": \"https://api.github.com/repos/ironhack-datalabs/scavenger/pulls{/number}\",\n",
      "      \"milestones_url\": \"https://api.github.com/repos/ironhack-datalabs/scavenger/milestones{/number}\",\n",
      "      \"notifications_url\": \"https://api.github.com/repos/ironhack-datalabs/scavenger/notifications{?since,all,participating}\",\n",
      "      \"labels_url\": \"https://api.github.com/repos/ironhack-datalabs/scavenger/labels{/name}\",\n",
      "      \"releases_url\": \"https://api.github.com/repos/ironhack-datalabs/scavenger/releases{/id}\",\n",
      "      \"deployments_url\": \"https://api.github.com/repos/ironhack-datalabs/scavenger/deployments\",\n",
      "      \"created_at\": \"2018-12-19T03:01:30Z\",\n",
      "      \"updated_at\": \"2018-12-19T03:05:09Z\",\n",
      "      \"pushed_at\": \"2018-12-19T03:05:07Z\",\n",
      "      \"git_url\": \"git://github.com/ironhack-datalabs/scavenger.git\",\n",
      "      \"ssh_url\": \"git@github.com:ironhack-datalabs/scavenger.git\",\n",
      "      \"clone_url\": \"https://github.com/ironhack-datalabs/scavenger.git\",\n",
      "      \"svn_url\": \"https://github.com/ironhack-datalabs/scavenger\",\n",
      "      \"homepage\": null,\n",
      "      \"size\": 3,\n",
      "      \"stargazers_count\": 0,\n",
      "      \"watchers_count\": 0,\n",
      "      \"language\": null,\n",
      "      \"has_issues\": true,\n",
      "      \"has_projects\": true,\n",
      "      \"has_downloads\": true,\n",
      "      \"has_wiki\": true,\n",
      "      \"has_pages\": false,\n",
      "      \"forks_count\": 4,\n",
      "      \"mirror_url\": null,\n",
      "      \"archived\": false,\n",
      "      \"disabled\": false,\n",
      "      \"open_issues_count\": 0,\n",
      "      \"license\": null,\n",
      "      \"forks\": 4,\n",
      "      \"open_issues\": 0,\n",
      "      \"watchers\": 0,\n",
      "      \"default_branch\": \"master\",\n",
      "      \"permissions\": {\n",
      "            \"admin\": false,\n",
      "            \"push\": false,\n",
      "            \"pull\": true\n",
      "      },\n",
      "      \"temp_clone_token\": \"\",\n",
      "      \"organization\": {\n",
      "            \"login\": \"ironhack-datalabs\",\n",
      "            \"id\": 44225188,\n",
      "            \"node_id\": \"MDEyOk9yZ2FuaXphdGlvbjQ0MjI1MTg4\",\n",
      "            \"avatar_url\": \"https://avatars2.githubusercontent.com/u/44225188?v=4\",\n",
      "            \"gravatar_id\": \"\",\n",
      "            \"url\": \"https://api.github.com/users/ironhack-datalabs\",\n",
      "            \"html_url\": \"https://github.com/ironhack-datalabs\",\n",
      "            \"followers_url\": \"https://api.github.com/users/ironhack-datalabs/followers\",\n",
      "            \"following_url\": \"https://api.github.com/users/ironhack-datalabs/following{/other_user}\",\n",
      "            \"gists_url\": \"https://api.github.com/users/ironhack-datalabs/gists{/gist_id}\",\n",
      "            \"starred_url\": \"https://api.github.com/users/ironhack-datalabs/starred{/owner}{/repo}\",\n",
      "            \"subscriptions_url\": \"https://api.github.com/users/ironhack-datalabs/subscriptions\",\n",
      "            \"organizations_url\": \"https://api.github.com/users/ironhack-datalabs/orgs\",\n",
      "            \"repos_url\": \"https://api.github.com/users/ironhack-datalabs/repos\",\n",
      "            \"events_url\": \"https://api.github.com/users/ironhack-datalabs/events{/privacy}\",\n",
      "            \"received_events_url\": \"https://api.github.com/users/ironhack-datalabs/received_events\",\n",
      "            \"type\": \"Organization\",\n",
      "            \"site_admin\": false\n",
      "      },\n",
      "      \"network_count\": 4,\n",
      "      \"subscribers_count\": 2\n",
      "}\n"
     ]
    }
   ],
   "source": [
    "#let's repeat the process and iteritabely get the files from the directories which will be the real challenge\n",
    "url_ch_3 = 'https://api.github.com/repos/ironhack-datalabs/scavenger'\n",
    "\n",
    "ch3_response_ = requests.get(url_ch_3, auth=(username, token))\n",
    "ch3_response_json = ch3_response_.json()\n",
    "print(json.dumps(ch3_response_json, indent=6))"
   ]
  },
  {
   "cell_type": "markdown",
   "metadata": {},
   "source": [
    "It seems we need a different kind of GET request /repos/:owner/:repo/git/trees/:tree_sha"
   ]
  },
  {
   "cell_type": "code",
   "execution_count": 18,
   "metadata": {},
   "outputs": [],
   "source": [
    "url_ch_3_v2='https://api.github.com/repos/ironhack-datalabs/scavenger/git/trees/9308ccc8a4c34c5e3a991ee815222a9691c32476'"
   ]
  },
  {
   "cell_type": "code",
   "execution_count": 19,
   "metadata": {},
   "outputs": [
    {
     "name": "stdout",
     "output_type": "stream",
     "text": [
      "{\n",
      "      \"sha\": \"9308ccc8a4c34c5e3a991ee815222a9691c32476\",\n",
      "      \"url\": \"https://api.github.com/repos/ironhack-datalabs/scavenger/git/trees/9308ccc8a4c34c5e3a991ee815222a9691c32476\",\n",
      "      \"tree\": [\n",
      "            {\n",
      "                  \"path\": \".gitignore\",\n",
      "                  \"mode\": \"100644\",\n",
      "                  \"type\": \"blob\",\n",
      "                  \"sha\": \"e43b0f988953ae3a84b00331d0ccf5f7d51cb3cf\",\n",
      "                  \"size\": 10,\n",
      "                  \"url\": \"https://api.github.com/repos/ironhack-datalabs/scavenger/git/blobs/e43b0f988953ae3a84b00331d0ccf5f7d51cb3cf\"\n",
      "            },\n",
      "            {\n",
      "                  \"path\": \"15024\",\n",
      "                  \"mode\": \"040000\",\n",
      "                  \"type\": \"tree\",\n",
      "                  \"sha\": \"2945e51c87ad5da893c954afcf092f06343bbb7d\",\n",
      "                  \"url\": \"https://api.github.com/repos/ironhack-datalabs/scavenger/git/trees/2945e51c87ad5da893c954afcf092f06343bbb7d\"\n",
      "            },\n",
      "            {\n",
      "                  \"path\": \"15534\",\n",
      "                  \"mode\": \"040000\",\n",
      "                  \"type\": \"tree\",\n",
      "                  \"sha\": \"5af6f2a7287e4191f39e55693fc1e9c8918d1d3a\",\n",
      "                  \"url\": \"https://api.github.com/repos/ironhack-datalabs/scavenger/git/trees/5af6f2a7287e4191f39e55693fc1e9c8918d1d3a\"\n",
      "            },\n",
      "            {\n",
      "                  \"path\": \"17020\",\n",
      "                  \"mode\": \"040000\",\n",
      "                  \"type\": \"tree\",\n",
      "                  \"sha\": \"9c49f920aa4d9433fa99a5824128f0e6b90ec5f2\",\n",
      "                  \"url\": \"https://api.github.com/repos/ironhack-datalabs/scavenger/git/trees/9c49f920aa4d9433fa99a5824128f0e6b90ec5f2\"\n",
      "            },\n",
      "            {\n",
      "                  \"path\": \"30351\",\n",
      "                  \"mode\": \"040000\",\n",
      "                  \"type\": \"tree\",\n",
      "                  \"sha\": \"c488d7f64088c852e22067d48fdc64ee3670f3ba\",\n",
      "                  \"url\": \"https://api.github.com/repos/ironhack-datalabs/scavenger/git/trees/c488d7f64088c852e22067d48fdc64ee3670f3ba\"\n",
      "            },\n",
      "            {\n",
      "                  \"path\": \"40303\",\n",
      "                  \"mode\": \"040000\",\n",
      "                  \"type\": \"tree\",\n",
      "                  \"sha\": \"30193d9cf62b07bcbb6366513ff03596861f2d29\",\n",
      "                  \"url\": \"https://api.github.com/repos/ironhack-datalabs/scavenger/git/trees/30193d9cf62b07bcbb6366513ff03596861f2d29\"\n",
      "            },\n",
      "            {\n",
      "                  \"path\": \"44639\",\n",
      "                  \"mode\": \"040000\",\n",
      "                  \"type\": \"tree\",\n",
      "                  \"sha\": \"22fc3d5c2db80822c351edb2248f3491c8ebda86\",\n",
      "                  \"url\": \"https://api.github.com/repos/ironhack-datalabs/scavenger/git/trees/22fc3d5c2db80822c351edb2248f3491c8ebda86\"\n",
      "            },\n",
      "            {\n",
      "                  \"path\": \"45525\",\n",
      "                  \"mode\": \"040000\",\n",
      "                  \"type\": \"tree\",\n",
      "                  \"sha\": \"6a4a88cd9084110c8646c3cfd84dfe96b300a4a7\",\n",
      "                  \"url\": \"https://api.github.com/repos/ironhack-datalabs/scavenger/git/trees/6a4a88cd9084110c8646c3cfd84dfe96b300a4a7\"\n",
      "            },\n",
      "            {\n",
      "                  \"path\": \"47222\",\n",
      "                  \"mode\": \"040000\",\n",
      "                  \"type\": \"tree\",\n",
      "                  \"sha\": \"c7001604cdadc2fe7b82e0f6996690718cac6941\",\n",
      "                  \"url\": \"https://api.github.com/repos/ironhack-datalabs/scavenger/git/trees/c7001604cdadc2fe7b82e0f6996690718cac6941\"\n",
      "            },\n",
      "            {\n",
      "                  \"path\": \"47830\",\n",
      "                  \"mode\": \"040000\",\n",
      "                  \"type\": \"tree\",\n",
      "                  \"sha\": \"f84882ad7560fd2b8c6a0867bc707ce9009ef288\",\n",
      "                  \"url\": \"https://api.github.com/repos/ironhack-datalabs/scavenger/git/trees/f84882ad7560fd2b8c6a0867bc707ce9009ef288\"\n",
      "            },\n",
      "            {\n",
      "                  \"path\": \"49418\",\n",
      "                  \"mode\": \"040000\",\n",
      "                  \"type\": \"tree\",\n",
      "                  \"sha\": \"46bc658c09589d9023246b00e848ce97d30d4989\",\n",
      "                  \"url\": \"https://api.github.com/repos/ironhack-datalabs/scavenger/git/trees/46bc658c09589d9023246b00e848ce97d30d4989\"\n",
      "            },\n",
      "            {\n",
      "                  \"path\": \"50896\",\n",
      "                  \"mode\": \"040000\",\n",
      "                  \"type\": \"tree\",\n",
      "                  \"sha\": \"e47a7a35a19f80694587330c57d94e28d3b4c054\",\n",
      "                  \"url\": \"https://api.github.com/repos/ironhack-datalabs/scavenger/git/trees/e47a7a35a19f80694587330c57d94e28d3b4c054\"\n",
      "            },\n",
      "            {\n",
      "                  \"path\": \"55417\",\n",
      "                  \"mode\": \"040000\",\n",
      "                  \"type\": \"tree\",\n",
      "                  \"sha\": \"636fa555a2ee752759144a268fd860feb2b6fd2d\",\n",
      "                  \"url\": \"https://api.github.com/repos/ironhack-datalabs/scavenger/git/trees/636fa555a2ee752759144a268fd860feb2b6fd2d\"\n",
      "            },\n",
      "            {\n",
      "                  \"path\": \"55685\",\n",
      "                  \"mode\": \"040000\",\n",
      "                  \"type\": \"tree\",\n",
      "                  \"sha\": \"a00a8148a88287508a867616d7063786d3d5d4ff\",\n",
      "                  \"url\": \"https://api.github.com/repos/ironhack-datalabs/scavenger/git/trees/a00a8148a88287508a867616d7063786d3d5d4ff\"\n",
      "            },\n",
      "            {\n",
      "                  \"path\": \"60224\",\n",
      "                  \"mode\": \"040000\",\n",
      "                  \"type\": \"tree\",\n",
      "                  \"sha\": \"28d70fba98bfacfaa5e5544b2eff6b61c9e8f57b\",\n",
      "                  \"url\": \"https://api.github.com/repos/ironhack-datalabs/scavenger/git/trees/28d70fba98bfacfaa5e5544b2eff6b61c9e8f57b\"\n",
      "            },\n",
      "            {\n",
      "                  \"path\": \"64880\",\n",
      "                  \"mode\": \"040000\",\n",
      "                  \"type\": \"tree\",\n",
      "                  \"sha\": \"88b159d6f73378e6968bb35ccfd8e3ad0cc462d2\",\n",
      "                  \"url\": \"https://api.github.com/repos/ironhack-datalabs/scavenger/git/trees/88b159d6f73378e6968bb35ccfd8e3ad0cc462d2\"\n",
      "            },\n",
      "            {\n",
      "                  \"path\": \"66032\",\n",
      "                  \"mode\": \"040000\",\n",
      "                  \"type\": \"tree\",\n",
      "                  \"sha\": \"0230fa6fa1ccf49ab976fbbfc9eb838094779785\",\n",
      "                  \"url\": \"https://api.github.com/repos/ironhack-datalabs/scavenger/git/trees/0230fa6fa1ccf49ab976fbbfc9eb838094779785\"\n",
      "            },\n",
      "            {\n",
      "                  \"path\": \"68848\",\n",
      "                  \"mode\": \"040000\",\n",
      "                  \"type\": \"tree\",\n",
      "                  \"sha\": \"ed2f90be6835e7e74c283aedba1942b788754d32\",\n",
      "                  \"url\": \"https://api.github.com/repos/ironhack-datalabs/scavenger/git/trees/ed2f90be6835e7e74c283aedba1942b788754d32\"\n",
      "            },\n",
      "            {\n",
      "                  \"path\": \"70751\",\n",
      "                  \"mode\": \"040000\",\n",
      "                  \"type\": \"tree\",\n",
      "                  \"sha\": \"a5d9391003b67cecf3c336398ec38cfa75a689b7\",\n",
      "                  \"url\": \"https://api.github.com/repos/ironhack-datalabs/scavenger/git/trees/a5d9391003b67cecf3c336398ec38cfa75a689b7\"\n",
      "            },\n",
      "            {\n",
      "                  \"path\": \"70985\",\n",
      "                  \"mode\": \"040000\",\n",
      "                  \"type\": \"tree\",\n",
      "                  \"sha\": \"d1a654c5811f52ec8a101652b0a04367644eab99\",\n",
      "                  \"url\": \"https://api.github.com/repos/ironhack-datalabs/scavenger/git/trees/d1a654c5811f52ec8a101652b0a04367644eab99\"\n",
      "            },\n",
      "            {\n",
      "                  \"path\": \"88596\",\n",
      "                  \"mode\": \"040000\",\n",
      "                  \"type\": \"tree\",\n",
      "                  \"sha\": \"f294d2a0e55a4bab12625a7f709b44450a5e4648\",\n",
      "                  \"url\": \"https://api.github.com/repos/ironhack-datalabs/scavenger/git/trees/f294d2a0e55a4bab12625a7f709b44450a5e4648\"\n",
      "            },\n",
      "            {\n",
      "                  \"path\": \"89046\",\n",
      "                  \"mode\": \"040000\",\n",
      "                  \"type\": \"tree\",\n",
      "                  \"sha\": \"5f3ef5f14cf72bbe03a24b69777ba02f19a3adb5\",\n",
      "                  \"url\": \"https://api.github.com/repos/ironhack-datalabs/scavenger/git/trees/5f3ef5f14cf72bbe03a24b69777ba02f19a3adb5\"\n",
      "            },\n",
      "            {\n",
      "                  \"path\": \"89338\",\n",
      "                  \"mode\": \"040000\",\n",
      "                  \"type\": \"tree\",\n",
      "                  \"sha\": \"79c94a4032a927b2af52cc6da4ce27eb2abbf55e\",\n",
      "                  \"url\": \"https://api.github.com/repos/ironhack-datalabs/scavenger/git/trees/79c94a4032a927b2af52cc6da4ce27eb2abbf55e\"\n",
      "            },\n",
      "            {\n",
      "                  \"path\": \"91701\",\n",
      "                  \"mode\": \"040000\",\n",
      "                  \"type\": \"tree\",\n",
      "                  \"sha\": \"0ad19115f0b56c3cd10cb7e077140c201b527301\",\n",
      "                  \"url\": \"https://api.github.com/repos/ironhack-datalabs/scavenger/git/trees/0ad19115f0b56c3cd10cb7e077140c201b527301\"\n",
      "            },\n",
      "            {\n",
      "                  \"path\": \"97881\",\n",
      "                  \"mode\": \"040000\",\n",
      "                  \"type\": \"tree\",\n",
      "                  \"sha\": \"c369c43c17ec44cc3e66dd27f8e557f9d15d40f4\",\n",
      "                  \"url\": \"https://api.github.com/repos/ironhack-datalabs/scavenger/git/trees/c369c43c17ec44cc3e66dd27f8e557f9d15d40f4\"\n",
      "            },\n",
      "            {\n",
      "                  \"path\": \"98750\",\n",
      "                  \"mode\": \"040000\",\n",
      "                  \"type\": \"tree\",\n",
      "                  \"sha\": \"cdc23915e0a5179127458431986ba3750840a924\",\n",
      "                  \"url\": \"https://api.github.com/repos/ironhack-datalabs/scavenger/git/trees/cdc23915e0a5179127458431986ba3750840a924\"\n",
      "            }\n",
      "      ],\n",
      "      \"truncated\": false\n",
      "}\n"
     ]
    }
   ],
   "source": [
    "ch3_response2_ = requests.get(url_ch_3_v2, auth=(username, token))\n",
    "ch3_response_json2 = ch3_response2_.json()\n",
    "print(json.dumps(ch3_response_json2, indent=6))"
   ]
  },
  {
   "cell_type": "markdown",
   "metadata": {},
   "source": [
    "Now our response is a dictionary and the key tree has the value of a list, a list of dictionaries whith every ( I guess) commit and the path to each folder, we want to access each folder recursively and grab each filethat contains .scavengerhunt in the name."
   ]
  },
  {
   "cell_type": "code",
   "execution_count": 20,
   "metadata": {},
   "outputs": [
    {
     "data": {
      "text/plain": [
       "'15534'"
      ]
     },
     "execution_count": 20,
     "metadata": {},
     "output_type": "execute_result"
    }
   ],
   "source": [
    "tree_list=ch3_response_json2.get('tree')\n",
    "tree_list[2]['path']"
   ]
  },
  {
   "cell_type": "code",
   "execution_count": 29,
   "metadata": {},
   "outputs": [
    {
     "name": "stdout",
     "output_type": "stream",
     "text": [
      "25\n",
      "['15024', '15534', '17020', '30351', '40303', '44639', '45525', '47222', '47830', '49418', '50896', '55417', '55685', '60224', '64880', '66032', '68848', '70751', '70985', '88596', '89046', '89338', '91701', '97881', '98750']\n"
     ]
    }
   ],
   "source": [
    "#we are going to firat loop over this to have the list of directories.\n",
    "tree_list=ch3_response_json2.get('tree')\n",
    "directory_list=[]\n",
    "for index, i in enumerate(tree_list):\n",
    "    if index !=0:\n",
    "        directory = tree_list[index]['path']\n",
    "        directory_list.append(directory)\n",
    "print(len(directory_list))\n",
    "print(directory_list)"
   ]
  },
  {
   "cell_type": "markdown",
   "metadata": {},
   "source": [
    "Now that we have the names of the directories or paths, we can iterate over them to get our files "
   ]
  },
  {
   "cell_type": "code",
   "execution_count": 81,
   "metadata": {},
   "outputs": [
    {
     "name": "stdout",
     "output_type": "stream",
     "text": [
      "83\n",
      "['.0006.scavengerhunt', '40', '74', '99', '.0008.scavengerhunt', '.0012.scavengerhunt', '2', '98', '.0007.scavengerhunt', '46', '97', '.0021.scavengerhunt', '22', '96', '.0022.scavengerhunt', '51', '65', '.0005.scavengerhunt', '76', '91', '.0018.scavengerhunt', '67', '90', '.0016.scavengerhunt', '.0024.scavengerhunt', '7', '89', '.0010.scavengerhunt', '66', '85', '.0014.scavengerhunt', '30', '38', '84', '.0011.scavengerhunt', '4', '83', '.0023.scavengerhunt', '14', '82', '.0020.scavengerhunt', '5', '81', '.0003.scavengerhunt', '1', '80', '3', '57', '79', '28', '47', '77', '.0004.scavengerhunt', '16', '75', '.0019.scavengerhunt', '18', '44', '68', '.0017.scavengerhunt', '11', '59', '.0002.scavengerhunt', '12', '32', '55', '64', '70', '73', '.0013.scavengerhunt', '35', '43', '8', '.0015.scavengerhunt', '33', '39', '.0009.scavengerhunt', '26', '36', '71', '.0001.scavengerhunt', '20', '62']\n"
     ]
    }
   ],
   "source": [
    "list_names = []\n",
    "for i in directory_list:\n",
    "    file_url=f'https://api.github.com/repos/ironhack-datalabs/scavenger/contents/{i}'\n",
    "    files_response_ = requests.get(file_url, auth=(username, token)).json()\n",
    "    #caveat this will only work if the files .scavengerhunt are always the first ones in every directory. IT didnt work.\n",
    "    for index,j in enumerate(files_response_):\n",
    "        file_name = files_response_[index].get('name')\n",
    "        list_names.append(file_name)\n",
    "print(len(list_names))\n",
    "print(list_names)"
   ]
  },
  {
   "cell_type": "code",
   "execution_count": 82,
   "metadata": {},
   "outputs": [
    {
     "data": {
      "text/plain": [
       "['.0006.scavengerhunt',\n",
       " '40',\n",
       " '74',\n",
       " '99',\n",
       " '.0008.scavengerhunt',\n",
       " '.0012.scavengerhunt',\n",
       " '2',\n",
       " '98',\n",
       " '.0007.scavengerhunt',\n",
       " '46',\n",
       " '97',\n",
       " '.0021.scavengerhunt',\n",
       " '22',\n",
       " '96',\n",
       " '.0022.scavengerhunt',\n",
       " '51',\n",
       " '65',\n",
       " '.0005.scavengerhunt',\n",
       " '76',\n",
       " '91',\n",
       " '.0018.scavengerhunt',\n",
       " '67',\n",
       " '90',\n",
       " '.0016.scavengerhunt',\n",
       " '.0024.scavengerhunt',\n",
       " '7',\n",
       " '89',\n",
       " '.0010.scavengerhunt',\n",
       " '66',\n",
       " '85',\n",
       " '.0014.scavengerhunt',\n",
       " '30',\n",
       " '38',\n",
       " '84',\n",
       " '.0011.scavengerhunt',\n",
       " '4',\n",
       " '83',\n",
       " '.0023.scavengerhunt',\n",
       " '14',\n",
       " '82',\n",
       " '.0020.scavengerhunt',\n",
       " '5',\n",
       " '81',\n",
       " '.0003.scavengerhunt',\n",
       " '1',\n",
       " '80',\n",
       " '3',\n",
       " '57',\n",
       " '79',\n",
       " '28',\n",
       " '47',\n",
       " '77',\n",
       " '.0004.scavengerhunt',\n",
       " '16',\n",
       " '75',\n",
       " '.0019.scavengerhunt',\n",
       " '18',\n",
       " '44',\n",
       " '68',\n",
       " '.0017.scavengerhunt',\n",
       " '11',\n",
       " '59',\n",
       " '.0002.scavengerhunt',\n",
       " '12',\n",
       " '32',\n",
       " '55',\n",
       " '64',\n",
       " '70',\n",
       " '73',\n",
       " '.0013.scavengerhunt',\n",
       " '35',\n",
       " '43',\n",
       " '8',\n",
       " '.0015.scavengerhunt',\n",
       " '33',\n",
       " '39',\n",
       " '.0009.scavengerhunt',\n",
       " '26',\n",
       " '36',\n",
       " '71',\n",
       " '.0001.scavengerhunt',\n",
       " '20',\n",
       " '62']"
      ]
     },
     "execution_count": 82,
     "metadata": {},
     "output_type": "execute_result"
    }
   ],
   "source": [
    "list_names"
   ]
  },
  {
   "cell_type": "code",
   "execution_count": 47,
   "metadata": {},
   "outputs": [
    {
     "data": {
      "text/plain": [
       "['.0006.scavengerhunt']"
      ]
     },
     "execution_count": 47,
     "metadata": {},
     "output_type": "execute_result"
    }
   ],
   "source": [
    "txt = '.0006.scavengerhunt'\n",
    "re.findall(r'\\.\\d+\\.scavengerhunt',txt)\n"
   ]
  },
  {
   "cell_type": "code",
   "execution_count": 52,
   "metadata": {},
   "outputs": [],
   "source": [
    "def scavenger_getter():\n",
    "    scav_names = []\n",
    "    for i in list_names:\n",
    "        if re.match(r'\\.\\d+\\.scavengerhunt',i):\n",
    "            scav = re.findall(r'\\.\\d+\\.scavengerhunt',i)\n",
    "            scav_names.append(scav)\n",
    "    scav_names=[i[0] for i in scav_names]\n",
    "    return scav_names"
   ]
  },
  {
   "cell_type": "code",
   "execution_count": 83,
   "metadata": {},
   "outputs": [
    {
     "data": {
      "text/plain": [
       "['.0006.scavengerhunt',\n",
       " '.0008.scavengerhunt',\n",
       " '.0012.scavengerhunt',\n",
       " '.0007.scavengerhunt',\n",
       " '.0021.scavengerhunt',\n",
       " '.0022.scavengerhunt',\n",
       " '.0005.scavengerhunt',\n",
       " '.0018.scavengerhunt',\n",
       " '.0016.scavengerhunt',\n",
       " '.0024.scavengerhunt',\n",
       " '.0010.scavengerhunt',\n",
       " '.0014.scavengerhunt',\n",
       " '.0011.scavengerhunt',\n",
       " '.0023.scavengerhunt',\n",
       " '.0020.scavengerhunt',\n",
       " '.0003.scavengerhunt',\n",
       " '.0004.scavengerhunt',\n",
       " '.0019.scavengerhunt',\n",
       " '.0017.scavengerhunt',\n",
       " '.0002.scavengerhunt',\n",
       " '.0013.scavengerhunt',\n",
       " '.0015.scavengerhunt',\n",
       " '.0009.scavengerhunt',\n",
       " '.0001.scavengerhunt']"
      ]
     },
     "execution_count": 83,
     "metadata": {},
     "output_type": "execute_result"
    }
   ],
   "source": [
    "list_names = scavenger_getter()\n",
    "list_names"
   ]
  },
  {
   "cell_type": "markdown",
   "metadata": {},
   "source": [
    "#### 2.  Sort the filenames ascendingly."
   ]
  },
  {
   "cell_type": "code",
   "execution_count": 56,
   "metadata": {},
   "outputs": [
    {
     "data": {
      "text/plain": [
       "['.0001.scavengerhunt',\n",
       " '.0002.scavengerhunt',\n",
       " '.0003.scavengerhunt',\n",
       " '.0004.scavengerhunt',\n",
       " '.0005.scavengerhunt',\n",
       " '.0006.scavengerhunt',\n",
       " '.0007.scavengerhunt',\n",
       " '.0008.scavengerhunt',\n",
       " '.0009.scavengerhunt',\n",
       " '.0010.scavengerhunt',\n",
       " '.0011.scavengerhunt',\n",
       " '.0012.scavengerhunt',\n",
       " '.0013.scavengerhunt',\n",
       " '.0014.scavengerhunt',\n",
       " '.0015.scavengerhunt',\n",
       " '.0016.scavengerhunt',\n",
       " '.0017.scavengerhunt',\n",
       " '.0018.scavengerhunt',\n",
       " '.0019.scavengerhunt',\n",
       " '.0020.scavengerhunt',\n",
       " '.0021.scavengerhunt',\n",
       " '.0022.scavengerhunt',\n",
       " '.0023.scavengerhunt',\n",
       " '.0024.scavengerhunt']"
      ]
     },
     "execution_count": 56,
     "metadata": {},
     "output_type": "execute_result"
    }
   ],
   "source": [
    "list_names.sort()\n",
    "list_names"
   ]
  },
  {
   "cell_type": "markdown",
   "metadata": {},
   "source": [
    "#### 3. Read the content of each secret files into an array of strings.\n",
    "Since the response is encoded, you will need to send the following information in the header of your request:\n",
    "````python\n",
    "headers = {'Accept': 'application/vnd.github.v3.raw'}\n",
    "````"
   ]
  },
  {
   "cell_type": "code",
   "execution_count": 112,
   "metadata": {},
   "outputs": [
    {
     "name": "stdout",
     "output_type": "stream",
     "text": [
      "<class 'requests.models.Response'>\n",
      "b'spent\\n'\n"
     ]
    }
   ],
   "source": [
    "#test for 1 now we loop it\n",
    "url = 'https://api.github.com/repos/ironhack-datalabs/scavenger/contents/15534/.0008.scavengerhunt'\n",
    "\n",
    "\n",
    "payload = {}\n",
    "headers = {\n",
    "  'Accept': 'Accept: application/vnd.github.v3.raw',\n",
    "  'Authorization': 'Bearer  '\n",
    "}\n",
    "\n",
    "response = requests.request(\"GET\", url, headers=headers, data = payload)\n",
    "print(type(response))\n",
    "\n",
    "print(response.text.encode('utf8'))\n"
   ]
  },
  {
   "cell_type": "code",
   "execution_count": 113,
   "metadata": {},
   "outputs": [
    {
     "data": {
      "text/plain": [
       "[('15024', '.0006.scavengerhunt'),\n",
       " ('15534', '.0008.scavengerhunt'),\n",
       " ('17020', '.0012.scavengerhunt'),\n",
       " ('30351', '.0007.scavengerhunt'),\n",
       " ('40303', '.0021.scavengerhunt'),\n",
       " ('44639', '.0022.scavengerhunt'),\n",
       " ('45525', '.0005.scavengerhunt'),\n",
       " ('47222', '.0018.scavengerhunt'),\n",
       " ('47830', '.0016.scavengerhunt'),\n",
       " ('49418', '.0024.scavengerhunt'),\n",
       " ('50896', '.0010.scavengerhunt'),\n",
       " ('55417', '.0014.scavengerhunt'),\n",
       " ('55685', '.0011.scavengerhunt'),\n",
       " ('60224', '.0023.scavengerhunt'),\n",
       " ('64880', '.0020.scavengerhunt'),\n",
       " ('66032', '.0003.scavengerhunt'),\n",
       " ('68848', '.0004.scavengerhunt'),\n",
       " ('70751', '.0019.scavengerhunt'),\n",
       " ('70985', '.0017.scavengerhunt'),\n",
       " ('88596', '.0002.scavengerhunt'),\n",
       " ('89046', '.0013.scavengerhunt'),\n",
       " ('89338', '.0015.scavengerhunt'),\n",
       " ('91701', '.0009.scavengerhunt'),\n",
       " ('97881', '.0001.scavengerhunt')]"
      ]
     },
     "execution_count": 113,
     "metadata": {},
     "output_type": "execute_result"
    }
   ],
   "source": [
    "#this was my solution trying to construct the path myself. little did I know it was already as an elemnt of the file.\n",
    "directory_list = ['15024', '15534', '17020', '30351', '40303', '44639', '45525', '47222', '47830', '49418', '50896', '55417', '55685', '60224', '64880', '66032', '68848', '70751', '70985', '88596', '89046', '89338', '91701', '97881', '98750']\n",
    "list_names = ['.0006.scavengerhunt',\n",
    " '.0008.scavengerhunt',\n",
    " '.0012.scavengerhunt',\n",
    " '.0007.scavengerhunt',\n",
    " '.0021.scavengerhunt',\n",
    " '.0022.scavengerhunt',\n",
    " '.0005.scavengerhunt',\n",
    " '.0018.scavengerhunt',\n",
    " '.0016.scavengerhunt',\n",
    " '.0024.scavengerhunt',\n",
    " '.0010.scavengerhunt',\n",
    " '.0014.scavengerhunt',\n",
    " '.0011.scavengerhunt',\n",
    " '.0023.scavengerhunt',\n",
    " '.0020.scavengerhunt',\n",
    " '.0003.scavengerhunt',\n",
    " '.0004.scavengerhunt',\n",
    " '.0019.scavengerhunt',\n",
    " '.0017.scavengerhunt',\n",
    " '.0002.scavengerhunt',\n",
    " '.0013.scavengerhunt',\n",
    " '.0015.scavengerhunt',\n",
    " '.0009.scavengerhunt',\n",
    " '.0001.scavengerhunt']\n",
    "\n",
    "pairs = list(zip(directory_list,list_names))\n",
    "pairs\n",
    "        "
   ]
  },
  {
   "cell_type": "code",
   "execution_count": 116,
   "metadata": {},
   "outputs": [
    {
     "data": {
      "text/plain": [
       "{'.0006.scavengerhunt': '15024/.0006.scavengerhunt',\n",
       " '.0008.scavengerhunt': '15534/.0008.scavengerhunt',\n",
       " '.0012.scavengerhunt': '15534/.0012.scavengerhunt',\n",
       " '.0007.scavengerhunt': '17020/.0007.scavengerhunt',\n",
       " '.0021.scavengerhunt': '30351/.0021.scavengerhunt',\n",
       " '.0022.scavengerhunt': '40303/.0022.scavengerhunt',\n",
       " '.0005.scavengerhunt': '44639/.0005.scavengerhunt',\n",
       " '.0018.scavengerhunt': '45525/.0018.scavengerhunt',\n",
       " '.0016.scavengerhunt': '47222/.0016.scavengerhunt',\n",
       " '.0024.scavengerhunt': '47222/.0024.scavengerhunt',\n",
       " '.0010.scavengerhunt': '47830/.0010.scavengerhunt',\n",
       " '.0014.scavengerhunt': '49418/.0014.scavengerhunt',\n",
       " '.0011.scavengerhunt': '50896/.0011.scavengerhunt',\n",
       " '.0023.scavengerhunt': '55417/.0023.scavengerhunt',\n",
       " '.0020.scavengerhunt': '55685/.0020.scavengerhunt',\n",
       " '.0003.scavengerhunt': '60224/.0003.scavengerhunt',\n",
       " '.0004.scavengerhunt': '68848/.0004.scavengerhunt',\n",
       " '.0019.scavengerhunt': '70751/.0019.scavengerhunt',\n",
       " '.0017.scavengerhunt': '70985/.0017.scavengerhunt',\n",
       " '.0002.scavengerhunt': '88596/.0002.scavengerhunt',\n",
       " '.0013.scavengerhunt': '89338/.0013.scavengerhunt',\n",
       " '.0015.scavengerhunt': '91701/.0015.scavengerhunt',\n",
       " '.0009.scavengerhunt': '97881/.0009.scavengerhunt',\n",
       " '.0001.scavengerhunt': '98750/.0001.scavengerhunt'}"
      ]
     },
     "execution_count": 116,
     "metadata": {},
     "output_type": "execute_result"
    }
   ],
   "source": [
    "#this version is inspired on Carles help. Shot Out\n",
    "#we create the empty dictionary\n",
    "path_dictionary={}\n",
    "#we iterate over each directory as before\n",
    "for i in directory_list:\n",
    "    file_url=f'https://api.github.com/repos/ironhack-datalabs/scavenger/contents/{i}'\n",
    "    files_response_ = requests.get(file_url, auth=(username, token)).json()\n",
    "    #but inside it we iterate over the files to get the name\n",
    "    for index,j in enumerate(files_response_):\n",
    "        file_name = files_response_[index].get('name')\n",
    "        #if we find the scavenger one we get its path and fill the dict with the file as the key and the path as the value\n",
    "        if 'hunt' in file_name:\n",
    "            file_path = files_response_[index].get('path')\n",
    "            path_dictionary[file_name]=file_path\n",
    "        else:\n",
    "            continue\n",
    "path_dictionary\n"
   ]
  },
  {
   "cell_type": "code",
   "execution_count": 118,
   "metadata": {},
   "outputs": [
    {
     "data": {
      "text/plain": [
       "{'.0001.scavengerhunt': '98750/.0001.scavengerhunt',\n",
       " '.0002.scavengerhunt': '88596/.0002.scavengerhunt',\n",
       " '.0003.scavengerhunt': '60224/.0003.scavengerhunt',\n",
       " '.0004.scavengerhunt': '68848/.0004.scavengerhunt',\n",
       " '.0005.scavengerhunt': '44639/.0005.scavengerhunt',\n",
       " '.0006.scavengerhunt': '15024/.0006.scavengerhunt',\n",
       " '.0007.scavengerhunt': '17020/.0007.scavengerhunt',\n",
       " '.0008.scavengerhunt': '15534/.0008.scavengerhunt',\n",
       " '.0009.scavengerhunt': '97881/.0009.scavengerhunt',\n",
       " '.0010.scavengerhunt': '47830/.0010.scavengerhunt',\n",
       " '.0011.scavengerhunt': '50896/.0011.scavengerhunt',\n",
       " '.0012.scavengerhunt': '15534/.0012.scavengerhunt',\n",
       " '.0013.scavengerhunt': '89338/.0013.scavengerhunt',\n",
       " '.0014.scavengerhunt': '49418/.0014.scavengerhunt',\n",
       " '.0015.scavengerhunt': '91701/.0015.scavengerhunt',\n",
       " '.0016.scavengerhunt': '47222/.0016.scavengerhunt',\n",
       " '.0017.scavengerhunt': '70985/.0017.scavengerhunt',\n",
       " '.0018.scavengerhunt': '45525/.0018.scavengerhunt',\n",
       " '.0019.scavengerhunt': '70751/.0019.scavengerhunt',\n",
       " '.0020.scavengerhunt': '55685/.0020.scavengerhunt',\n",
       " '.0021.scavengerhunt': '30351/.0021.scavengerhunt',\n",
       " '.0022.scavengerhunt': '40303/.0022.scavengerhunt',\n",
       " '.0023.scavengerhunt': '55417/.0023.scavengerhunt',\n",
       " '.0024.scavengerhunt': '47222/.0024.scavengerhunt'}"
      ]
     },
     "execution_count": 118,
     "metadata": {},
     "output_type": "execute_result"
    }
   ],
   "source": [
    "sorted_path_dictionary = dict(sorted(path_dictionary.items()))\n",
    "sorted_path_dictionary"
   ]
  },
  {
   "cell_type": "code",
   "execution_count": 138,
   "metadata": {},
   "outputs": [
    {
     "name": "stdout",
     "output_type": "stream",
     "text": [
      "[\"b'In\\\\n'\", \"b'data\\\\n'\", \"b'science,\\\\n'\", \"b'80\\\\n'\", \"b'percent\\\\n'\", \"b'of\\\\n'\", \"b'time\\\\n'\", \"b'spent\\\\n'\", \"b'is\\\\n'\", \"b'preparing\\\\n'\", \"b'data,\\\\n'\", \"b'20\\\\n'\", \"b'percent\\\\n'\", \"b'of\\\\n'\", \"b'time\\\\n'\", \"b'is\\\\n'\", \"b'spent\\\\n'\", \"b'complaining\\\\n'\", \"b'about\\\\n'\", \"b'the\\\\n'\", \"b'need\\\\n'\", \"b'to\\\\n'\", \"b'prepare\\\\n'\", \"b'data.\\\\n'\"]\n"
     ]
    }
   ],
   "source": [
    "files_content = []\n",
    "for i in sorted_path_dictionary.values():\n",
    "    file_url_2=f'https://api.github.com/repos/ironhack-datalabs/scavenger/contents/{i}'\n",
    "    files_response_2 = requests.request(\"GET\", file_url_2, headers=headers, data = payload)\n",
    "    files_text = files_response_2.text.encode('utf8')\n",
    "    files_str = str(files_text)\n",
    "    files_content.append(files_str)\n",
    "print(files_content)"
   ]
  },
  {
   "cell_type": "code",
   "execution_count": 145,
   "metadata": {},
   "outputs": [
    {
     "data": {
      "text/plain": [
       "\"b'In\\\\n'\""
      ]
     },
     "execution_count": 145,
     "metadata": {},
     "output_type": "execute_result"
    }
   ],
   "source": [
    "files_content[0]"
   ]
  },
  {
   "cell_type": "markdown",
   "metadata": {},
   "source": [
    "#### 4. Concatenate the strings in the array separating each two with a whitespace."
   ]
  },
  {
   "cell_type": "code",
   "execution_count": 153,
   "metadata": {},
   "outputs": [],
   "source": [
    "def cleaner_str():\n",
    "    clean_content=[]\n",
    "    for i in files_content:\n",
    "        clean = re.findall(r'(?<=b\\')\\w+',i)\n",
    "        clean_content=clean_content+clean\n",
    "    return clean_content"
   ]
  },
  {
   "cell_type": "code",
   "execution_count": 156,
   "metadata": {},
   "outputs": [],
   "source": [
    "clean_def = cleaner_str()"
   ]
  },
  {
   "cell_type": "code",
   "execution_count": 159,
   "metadata": {},
   "outputs": [],
   "source": [
    "joke=' '.join(clean_def)"
   ]
  },
  {
   "cell_type": "markdown",
   "metadata": {},
   "source": [
    "#### 5. Print out the joke."
   ]
  },
  {
   "cell_type": "code",
   "execution_count": 160,
   "metadata": {},
   "outputs": [
    {
     "data": {
      "text/plain": [
       "'In data science 80 percent of time spent is preparing data 20 percent of time is spent complaining about the need to prepare data'"
      ]
     },
     "execution_count": 160,
     "metadata": {},
     "output_type": "execute_result"
    }
   ],
   "source": [
    "joke"
   ]
  },
  {
   "cell_type": "code",
   "execution_count": null,
   "metadata": {},
   "outputs": [],
   "source": []
  }
 ],
 "metadata": {
  "kernelspec": {
   "display_name": "Python 3",
   "language": "python",
   "name": "python3"
  },
  "language_info": {
   "codemirror_mode": {
    "name": "ipython",
    "version": 3
   },
   "file_extension": ".py",
   "mimetype": "text/x-python",
   "name": "python",
   "nbconvert_exporter": "python",
   "pygments_lexer": "ipython3",
   "version": "3.7.6"
  }
 },
 "nbformat": 4,
 "nbformat_minor": 2
}
